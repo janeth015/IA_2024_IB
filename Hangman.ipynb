{
  "nbformat": 4,
  "nbformat_minor": 0,
  "metadata": {
    "colab": {
      "provenance": [],
      "authorship_tag": "ABX9TyM5rCQVwopC295nr26OfJkP",
      "include_colab_link": true
    },
    "kernelspec": {
      "name": "python3",
      "display_name": "Python 3"
    },
    "language_info": {
      "name": "python"
    }
  },
  "cells": [
    {
      "cell_type": "markdown",
      "metadata": {
        "id": "view-in-github",
        "colab_type": "text"
      },
      "source": [
        "<a href=\"https://colab.research.google.com/github/janeth015/IA_2024_IB/blob/main/Hangman.ipynb\" target=\"_parent\"><img src=\"https://colab.research.google.com/assets/colab-badge.svg\" alt=\"Open In Colab\"/></a>"
      ]
    },
    {
      "cell_type": "code",
      "execution_count": 2,
      "metadata": {
        "colab": {
          "base_uri": "https://localhost:8080/"
        },
        "id": "Ur1AM6XwpaN7",
        "outputId": "34b4f250-9f46-414a-abb7-e8bca5664e16"
      },
      "outputs": [
        {
          "output_type": "stream",
          "name": "stdout",
          "text": [
            "_ _ _ _ _\n",
            "Guess a letter: a\n",
            "_ _ a _ _\n",
            "Guess a letter: i\n",
            "Wrong guess. You have 5 attempts left.\n",
            "_ _ a _ _\n",
            "Guess a letter: b\n",
            "Wrong guess. You have 4 attempts left.\n",
            "_ _ a _ _\n",
            "Guess a letter: n\n",
            "Wrong guess. You have 3 attempts left.\n",
            "_ _ a _ _\n",
            "Guess a letter: m\n",
            "Wrong guess. You have 2 attempts left.\n",
            "_ _ a _ _\n",
            "Guess a letter: e\n",
            "_ e a _ _\n",
            "Guess a letter: c\n",
            "_ e a c _\n",
            "Guess a letter: p\n",
            "p e a c _\n",
            "Guess a letter: h\n",
            "Congratulations! You guessed the word: peach\n"
          ]
        }
      ],
      "source": [
        "import random\n",
        "\n",
        "def hangman():\n",
        "    words = ['strawberry', 'pineapple', 'cucumber', 'peach']\n",
        "    word = random.choice(words)\n",
        "    guessed = ['_'] * len(word)\n",
        "    attempts = 6\n",
        "    guessed_letters = set()\n",
        "\n",
        "    while attempts > 0 and '_' in guessed:\n",
        "        print(' '.join(guessed))\n",
        "        letter = input('Guess a letter: ').lower()\n",
        "\n",
        "        if letter in guessed_letters:\n",
        "            print('You already guessed that letter.')\n",
        "        elif letter in word:\n",
        "            for i in range(len(word)):\n",
        "                if word[i] == letter:\n",
        "                    guessed[i] = letter\n",
        "        else:\n",
        "            attempts -= 1\n",
        "            print(f'Wrong guess. You have {attempts} attempts left.')\n",
        "\n",
        "        guessed_letters.add(letter)\n",
        "\n",
        "    if '_' not in guessed:\n",
        "        print(f'Congratulations! You guessed the word: {word}')\n",
        "    else:\n",
        "        print(f'Sorry, you ran out of attempts. The word was: {word}')\n",
        "\n",
        "# Example usage\n",
        "hangman()\n"
      ]
    }
  ]
}