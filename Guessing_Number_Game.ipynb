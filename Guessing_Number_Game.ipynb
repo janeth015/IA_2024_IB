{
  "nbformat": 4,
  "nbformat_minor": 0,
  "metadata": {
    "colab": {
      "provenance": [],
      "authorship_tag": "ABX9TyPyZU7+6oIPa2jlxK1hUFdR",
      "include_colab_link": true
    },
    "kernelspec": {
      "name": "python3",
      "display_name": "Python 3"
    },
    "language_info": {
      "name": "python"
    }
  },
  "cells": [
    {
      "cell_type": "markdown",
      "metadata": {
        "id": "view-in-github",
        "colab_type": "text"
      },
      "source": [
        "<a href=\"https://colab.research.google.com/github/janeth015/IA_2024_IB/blob/main/Guessing_Number_Game.ipynb\" target=\"_parent\"><img src=\"https://colab.research.google.com/assets/colab-badge.svg\" alt=\"Open In Colab\"/></a>"
      ]
    },
    {
      "cell_type": "code",
      "execution_count": 1,
      "metadata": {
        "colab": {
          "base_uri": "https://localhost:8080/"
        },
        "id": "hRSsEBkdq9sE",
        "outputId": "f8587607-089a-4d65-a9cc-5b8ebfea0807"
      },
      "outputs": [
        {
          "output_type": "stream",
          "name": "stdout",
          "text": [
            "Guess a number between 1 and 100: 50\n",
            "Too high!\n",
            "Guess a number between 1 and 100: 20\n",
            "Too low!\n",
            "Guess a number between 1 and 100: 28\n",
            "Too low!\n",
            "Guess a number between 1 and 100: 35\n",
            "Too high!\n",
            "Guess a number between 1 and 100: 30\n",
            "Too high!\n",
            "Guess a number between 1 and 100: 29\n",
            "Congratulations! You guessed the number.\n"
          ]
        }
      ],
      "source": [
        "import random\n",
        "\n",
        "def number_guessing_game():\n",
        "    number = random.randint(1, 100)\n",
        "    guess = None\n",
        "\n",
        "    while guess != number:\n",
        "        guess = int(input('Guess a number between 1 and 100: '))\n",
        "\n",
        "        if guess < number:\n",
        "            print('Too low!')\n",
        "        elif guess > number:\n",
        "            print('Too high!')\n",
        "        else:\n",
        "            print('Congratulations! You guessed the number.')\n",
        "\n",
        "# Example usage\n",
        "number_guessing_game()\n"
      ]
    }
  ]
}