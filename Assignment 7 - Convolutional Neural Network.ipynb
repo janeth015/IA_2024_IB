{
  "nbformat": 4,
  "nbformat_minor": 0,
  "metadata": {
    "colab": {
      "provenance": [],
      "authorship_tag": "ABX9TyPsb9FeaN+B02RUh+9Gf6TY",
      "include_colab_link": true
    },
    "kernelspec": {
      "name": "python3",
      "display_name": "Python 3"
    },
    "language_info": {
      "name": "python"
    }
  },
  "cells": [
    {
      "cell_type": "markdown",
      "metadata": {
        "id": "view-in-github",
        "colab_type": "text"
      },
      "source": [
        "<a href=\"https://colab.research.google.com/github/janeth015/IA_2024_IB/blob/main/Assignment%207%20-%20Convolutional%20Neural%20Network.ipynb\" target=\"_parent\"><img src=\"https://colab.research.google.com/assets/colab-badge.svg\" alt=\"Open In Colab\"/></a>"
      ]
    },
    {
      "cell_type": "code",
      "execution_count": 1,
      "metadata": {
        "id": "WCRwKRfG3Evf"
      },
      "outputs": [],
      "source": [
        "# Assignment 7.- Convolutional Neural Network\n",
        "# Sandra Janeth Arizpe Villanueva   2016782\n",
        "# Dafne Sofía Reynosa Barbosa       2011575\n",
        "# Santiago Iván Martínez Martínez   1965156\n",
        "\n",
        "# Class time: Tuesday N4 - N6\n"
      ]
    },
    {
      "cell_type": "markdown",
      "source": [
        "## **LOAD LIBRARIES**"
      ],
      "metadata": {
        "id": "FUcshwHz3j-T"
      }
    },
    {
      "cell_type": "code",
      "source": [
        "import numpy as np\n",
        "import matplotlib.pyplot as plt\n",
        "from keras.datasets import mnist\n",
        "from keras.models import Sequential\n",
        "from keras.layers import Conv2D, MaxPooling2D, Flatten, Dense\n",
        "from keras.utils import to_categorical\n"
      ],
      "metadata": {
        "id": "gQpH_ciC3pBn"
      },
      "execution_count": 2,
      "outputs": []
    },
    {
      "cell_type": "markdown",
      "source": [
        "## **LOAD DATA**"
      ],
      "metadata": {
        "id": "9ksQT3Mj3st2"
      }
    },
    {
      "cell_type": "code",
      "source": [
        "(train_data, train_labels), (test_data, test_labels) = mnist.load_data()\n",
        "\n",
        "train_data = train_data.reshape((train_data.shape[0], 28, 28, 1)).astype('float32') / 255\n",
        "test_data = test_data.reshape((test_data.shape[0], 28, 28, 1)).astype('float32') / 255\n",
        "\n",
        "train_labels = to_categorical(train_labels)\n",
        "test_labels = to_categorical(test_labels)\n"
      ],
      "metadata": {
        "colab": {
          "base_uri": "https://localhost:8080/"
        },
        "id": "dbmr-DUu3vUv",
        "outputId": "21ccec77-e3bf-42fd-84ac-010c9ba7b802"
      },
      "execution_count": 3,
      "outputs": [
        {
          "output_type": "stream",
          "name": "stdout",
          "text": [
            "Downloading data from https://storage.googleapis.com/tensorflow/tf-keras-datasets/mnist.npz\n",
            "\u001b[1m11490434/11490434\u001b[0m \u001b[32m━━━━━━━━━━━━━━━━━━━━\u001b[0m\u001b[37m\u001b[0m \u001b[1m0s\u001b[0m 0us/step\n"
          ]
        }
      ]
    },
    {
      "cell_type": "markdown",
      "source": [
        "## **MODEL SELECTION AND TRAINING**"
      ],
      "metadata": {
        "id": "zDxtUfGD4Q5I"
      }
    },
    {
      "cell_type": "code",
      "source": [
        "#Model creation\n",
        "model = Sequential()\n",
        "model.add(Conv2D(32, (3, 3), activation='relu', input_shape=(28, 28, 1)))\n",
        "model.add(MaxPooling2D(pool_size=(2, 2)))\n",
        "model.add(Conv2D(64, (3, 3), activation='relu'))\n",
        "model.add(MaxPooling2D(pool_size=(2, 2)))\n",
        "model.add(Flatten())\n",
        "model.add(Dense(128, activation='relu'))\n",
        "model.add(Dense(10, activation='softmax'))\n",
        "\n",
        "#Model compilation\n",
        "model.compile(loss='categorical_crossentropy', optimizer='adam', metrics=['accuracy'])\n",
        "\n",
        "#Model training\n",
        "history = model.fit(train_data, train_labels, epochs=10, batch_size=200, validation_split=0.2)\n"
      ],
      "metadata": {
        "colab": {
          "base_uri": "https://localhost:8080/"
        },
        "id": "V0_EMrnc4fKJ",
        "outputId": "6237991a-dfcc-4dad-ebb9-559ff2bc651d"
      },
      "execution_count": 4,
      "outputs": [
        {
          "output_type": "stream",
          "name": "stderr",
          "text": [
            "/usr/local/lib/python3.10/dist-packages/keras/src/layers/convolutional/base_conv.py:107: UserWarning: Do not pass an `input_shape`/`input_dim` argument to a layer. When using Sequential models, prefer using an `Input(shape)` object as the first layer in the model instead.\n",
            "  super().__init__(activity_regularizer=activity_regularizer, **kwargs)\n"
          ]
        },
        {
          "output_type": "stream",
          "name": "stdout",
          "text": [
            "Epoch 1/10\n",
            "\u001b[1m240/240\u001b[0m \u001b[32m━━━━━━━━━━━━━━━━━━━━\u001b[0m\u001b[37m\u001b[0m \u001b[1m43s\u001b[0m 174ms/step - accuracy: 0.8077 - loss: 0.6796 - val_accuracy: 0.9755 - val_loss: 0.0876\n",
            "Epoch 2/10\n",
            "\u001b[1m240/240\u001b[0m \u001b[32m━━━━━━━━━━━━━━━━━━━━\u001b[0m\u001b[37m\u001b[0m \u001b[1m41s\u001b[0m 173ms/step - accuracy: 0.9748 - loss: 0.0822 - val_accuracy: 0.9787 - val_loss: 0.0706\n",
            "Epoch 3/10\n",
            "\u001b[1m240/240\u001b[0m \u001b[32m━━━━━━━━━━━━━━━━━━━━\u001b[0m\u001b[37m\u001b[0m \u001b[1m42s\u001b[0m 173ms/step - accuracy: 0.9832 - loss: 0.0563 - val_accuracy: 0.9844 - val_loss: 0.0593\n",
            "Epoch 4/10\n",
            "\u001b[1m240/240\u001b[0m \u001b[32m━━━━━━━━━━━━━━━━━━━━\u001b[0m\u001b[37m\u001b[0m \u001b[1m80s\u001b[0m 166ms/step - accuracy: 0.9869 - loss: 0.0431 - val_accuracy: 0.9880 - val_loss: 0.0418\n",
            "Epoch 5/10\n",
            "\u001b[1m240/240\u001b[0m \u001b[32m━━━━━━━━━━━━━━━━━━━━\u001b[0m\u001b[37m\u001b[0m \u001b[1m47s\u001b[0m 191ms/step - accuracy: 0.9911 - loss: 0.0315 - val_accuracy: 0.9869 - val_loss: 0.0458\n",
            "Epoch 6/10\n",
            "\u001b[1m240/240\u001b[0m \u001b[32m━━━━━━━━━━━━━━━━━━━━\u001b[0m\u001b[37m\u001b[0m \u001b[1m78s\u001b[0m 176ms/step - accuracy: 0.9911 - loss: 0.0270 - val_accuracy: 0.9851 - val_loss: 0.0449\n",
            "Epoch 7/10\n",
            "\u001b[1m240/240\u001b[0m \u001b[32m━━━━━━━━━━━━━━━━━━━━\u001b[0m\u001b[37m\u001b[0m \u001b[1m42s\u001b[0m 173ms/step - accuracy: 0.9940 - loss: 0.0198 - val_accuracy: 0.9886 - val_loss: 0.0407\n",
            "Epoch 8/10\n",
            "\u001b[1m240/240\u001b[0m \u001b[32m━━━━━━━━━━━━━━━━━━━━\u001b[0m\u001b[37m\u001b[0m \u001b[1m82s\u001b[0m 173ms/step - accuracy: 0.9955 - loss: 0.0159 - val_accuracy: 0.9903 - val_loss: 0.0357\n",
            "Epoch 9/10\n",
            "\u001b[1m240/240\u001b[0m \u001b[32m━━━━━━━━━━━━━━━━━━━━\u001b[0m\u001b[37m\u001b[0m \u001b[1m41s\u001b[0m 171ms/step - accuracy: 0.9954 - loss: 0.0139 - val_accuracy: 0.9897 - val_loss: 0.0393\n",
            "Epoch 10/10\n",
            "\u001b[1m240/240\u001b[0m \u001b[32m━━━━━━━━━━━━━━━━━━━━\u001b[0m\u001b[37m\u001b[0m \u001b[1m42s\u001b[0m 176ms/step - accuracy: 0.9963 - loss: 0.0120 - val_accuracy: 0.9883 - val_loss: 0.0455\n"
          ]
        }
      ]
    },
    {
      "cell_type": "markdown",
      "source": [
        "## **MODEL EVALUATION**"
      ],
      "metadata": {
        "id": "Xka9KAbS7F9t"
      }
    },
    {
      "cell_type": "code",
      "source": [
        "#Model evaluation\n",
        "test_loss, test_accuracy = model.evaluate(test_data, test_labels)\n",
        "print(f'Precisión del modelo en el conjunto de prueba: {test_accuracy:.4f}')\n",
        "\n",
        "predictions = model.predict(test_data[:5])\n",
        "predicted_labels = np.argmax(predictions, axis=1)\n",
        "actual_labels = np.argmax(test_labels[:5], axis=1)\n",
        "\n",
        "for i in range(5):\n",
        "    print(f'Predicción: {predicted_labels[i]}, Valor real: {actual_labels[i]}')\n"
      ],
      "metadata": {
        "colab": {
          "base_uri": "https://localhost:8080/"
        },
        "id": "NeMeT_Fo7JEL",
        "outputId": "7389a79b-2c85-4088-ac91-5499397bfbd6"
      },
      "execution_count": 5,
      "outputs": [
        {
          "output_type": "stream",
          "name": "stdout",
          "text": [
            "\u001b[1m313/313\u001b[0m \u001b[32m━━━━━━━━━━━━━━━━━━━━\u001b[0m\u001b[37m\u001b[0m \u001b[1m3s\u001b[0m 9ms/step - accuracy: 0.9854 - loss: 0.0440\n",
            "Precisión del modelo en el conjunto de prueba: 0.9897\n",
            "\u001b[1m1/1\u001b[0m \u001b[32m━━━━━━━━━━━━━━━━━━━━\u001b[0m\u001b[37m\u001b[0m \u001b[1m0s\u001b[0m 76ms/step\n",
            "Predicción: 7, Valor real: 7\n",
            "Predicción: 2, Valor real: 2\n",
            "Predicción: 1, Valor real: 1\n",
            "Predicción: 0, Valor real: 0\n",
            "Predicción: 4, Valor real: 4\n"
          ]
        }
      ]
    }
  ]
}