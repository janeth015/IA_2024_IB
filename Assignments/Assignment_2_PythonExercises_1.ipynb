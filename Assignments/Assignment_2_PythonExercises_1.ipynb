{
  "nbformat": 4,
  "nbformat_minor": 0,
  "metadata": {
    "colab": {
      "provenance": [],
      "authorship_tag": "ABX9TyMqi83/IClpcqX2m31wHZqE",
      "include_colab_link": true
    },
    "kernelspec": {
      "name": "python3",
      "display_name": "Python 3"
    },
    "language_info": {
      "name": "python"
    }
  },
  "cells": [
    {
      "cell_type": "markdown",
      "metadata": {
        "id": "view-in-github",
        "colab_type": "text"
      },
      "source": [
        "<a href=\"https://colab.research.google.com/github/janeth015/IA_2024_IB/blob/main/Assignment_2_PythonExercises_1.ipynb\" target=\"_parent\"><img src=\"https://colab.research.google.com/assets/colab-badge.svg\" alt=\"Open In Colab\"/></a>"
      ]
    },
    {
      "cell_type": "markdown",
      "source": [
        "## **Text Analysis Tool**\n"
      ],
      "metadata": {
        "id": "i-zgJLYksvoT"
      }
    },
    {
      "cell_type": "code",
      "source": [
        "def count_words(text):\n",
        "    words = text.split()\n",
        "    return len(words)\n",
        "\n",
        "def count_sentences(text):\n",
        "    sentences = text.split('.')\n",
        "    return len(sentences)\n",
        "\n",
        "def count_paragraphs(text):\n",
        "    paragraphs = text.split('\\n\\n')\n",
        "    return len(paragraphs)\n",
        "\n",
        "def average_word_length(text):\n",
        "    words = text.split()\n",
        "    total_letters = sum(len(word) for word in words)\n",
        "    return total_letters / len(words)\n",
        "\n",
        "def common_words(text):\n",
        "    words = text.split()\n",
        "    frequency = {}\n",
        "    for word in words:\n",
        "        if word in frequency:\n",
        "            frequency[word] += 1\n",
        "        else:\n",
        "            frequency[word] = 1\n",
        "    common = sorted(frequency.items(), key=lambda x: x[1], reverse=True)\n",
        "    return common[:10]\n",
        "\n",
        "def text_analysis(file_path):\n",
        "    with open(file_path, 'r') as file:\n",
        "        text = file.read()\n",
        "\n",
        "    print(f'Number of words: {count_words(text)}')\n",
        "    print(f'Number of sentences: {count_sentences(text)}')\n",
        "    print(f'Number of paragraphs: {count_paragraphs(text)}')\n",
        "    print(f'Average word length: {average_word_length(text):.2f}')\n",
        "    print('Most common words:')\n",
        "    for word, frequency in common_words(text):\n",
        "        print(f'{word}: {frequency}')\n",
        "\n",
        "# Example usage\n",
        "text_analysis('/content/Texto1.txt')\n",
        "\n"
      ],
      "metadata": {
        "id": "GuqqYh5JuNtS",
        "colab": {
          "base_uri": "https://localhost:8080/"
        },
        "outputId": "08cddd65-9c8a-4037-95f0-1f082137a568"
      },
      "execution_count": 9,
      "outputs": [
        {
          "output_type": "stream",
          "name": "stdout",
          "text": [
            "Number of words: 157\n",
            "Number of sentences: 9\n",
            "Number of paragraphs: 3\n",
            "Average word length: 5.73\n",
            "Most common words:\n",
            "de: 15\n",
            "la: 10\n",
            "y: 9\n",
            "arquitectura: 5\n",
            "en: 4\n",
            "para: 4\n",
            "una: 4\n",
            "La: 3\n",
            "un: 3\n",
            "el: 3\n"
          ]
        }
      ]
    },
    {
      "cell_type": "markdown",
      "source": [
        "## **Hangman**"
      ],
      "metadata": {
        "id": "g31-j-zJtBz_"
      }
    },
    {
      "cell_type": "code",
      "execution_count": null,
      "metadata": {
        "colab": {
          "base_uri": "https://localhost:8080/"
        },
        "id": "Ur1AM6XwpaN7",
        "outputId": "34b4f250-9f46-414a-abb7-e8bca5664e16"
      },
      "outputs": [
        {
          "output_type": "stream",
          "name": "stdout",
          "text": [
            "_ _ _ _ _\n",
            "Guess a letter: a\n",
            "_ _ a _ _\n",
            "Guess a letter: i\n",
            "Wrong guess. You have 5 attempts left.\n",
            "_ _ a _ _\n",
            "Guess a letter: b\n",
            "Wrong guess. You have 4 attempts left.\n",
            "_ _ a _ _\n",
            "Guess a letter: n\n",
            "Wrong guess. You have 3 attempts left.\n",
            "_ _ a _ _\n",
            "Guess a letter: m\n",
            "Wrong guess. You have 2 attempts left.\n",
            "_ _ a _ _\n",
            "Guess a letter: e\n",
            "_ e a _ _\n",
            "Guess a letter: c\n",
            "_ e a c _\n",
            "Guess a letter: p\n",
            "p e a c _\n",
            "Guess a letter: h\n",
            "Congratulations! You guessed the word: peach\n"
          ]
        }
      ],
      "source": [
        "import random\n",
        "\n",
        "def hangman():\n",
        "    words = ['strawberry', 'pineapple', 'cucumber', 'peach']\n",
        "    word = random.choice(words)\n",
        "    guessed = ['_'] * len(word)\n",
        "    attempts = 6\n",
        "    guessed_letters = set()\n",
        "\n",
        "    while attempts > 0 and '_' in guessed:\n",
        "        print(' '.join(guessed))\n",
        "        letter = input('Guess a letter: ').lower()\n",
        "\n",
        "        if letter in guessed_letters:\n",
        "            print('You already guessed that letter.')\n",
        "        elif letter in word:\n",
        "            for i in range(len(word)):\n",
        "                if word[i] == letter:\n",
        "                    guessed[i] = letter\n",
        "        else:\n",
        "            attempts -= 1\n",
        "            print(f'Wrong guess. You have {attempts} attempts left.')\n",
        "\n",
        "        guessed_letters.add(letter)\n",
        "\n",
        "    if '_' not in guessed:\n",
        "        print(f'Congratulations! You guessed the word: {word}')\n",
        "    else:\n",
        "        print(f'Sorry, you ran out of attempts. The word was: {word}')\n",
        "\n",
        "# Example usage\n",
        "hangman()\n"
      ]
    },
    {
      "cell_type": "markdown",
      "source": [
        "## **Guessing Number Game**"
      ],
      "metadata": {
        "id": "w1IfT9ScsrPp"
      }
    },
    {
      "cell_type": "code",
      "source": [
        "import random\n",
        "\n",
        "def number_guessing_game():\n",
        "    number = random.randint(1, 100)\n",
        "    guess = None\n",
        "\n",
        "    while guess != number:\n",
        "        guess = int(input('Guess a number between 1 and 100: '))\n",
        "\n",
        "        if guess < number:\n",
        "            print('Too low!')\n",
        "        elif guess > number:\n",
        "            print('Too high!')\n",
        "        else:\n",
        "            print('Congratulations! You guessed the number.')\n",
        "\n",
        "# Example usage\n",
        "number_guessing_game()"
      ],
      "metadata": {
        "colab": {
          "base_uri": "https://localhost:8080/"
        },
        "id": "8vA1IaJjtfd2",
        "outputId": "97811aa4-3eed-4abc-8dcf-4b12fa0df9f2"
      },
      "execution_count": null,
      "outputs": [
        {
          "output_type": "stream",
          "name": "stdout",
          "text": [
            "Guess a number between 1 and 100: 50\n",
            "Too high!\n",
            "Guess a number between 1 and 100: 20\n",
            "Too low!\n",
            "Guess a number between 1 and 100: 30\n",
            "Too low!\n",
            "Guess a number between 1 and 100: 35\n",
            "Too low!\n",
            "Guess a number between 1 and 100: 43\n",
            "Too low!\n",
            "Guess a number between 1 and 100: 47\n",
            "Congratulations! You guessed the number.\n"
          ]
        }
      ]
    }
  ]
}
