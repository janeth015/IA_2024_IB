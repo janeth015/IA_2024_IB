{
  "nbformat": 4,
  "nbformat_minor": 0,
  "metadata": {
    "colab": {
      "provenance": [],
      "include_colab_link": true
    },
    "kernelspec": {
      "name": "python3",
      "display_name": "Python 3"
    },
    "language_info": {
      "name": "python"
    }
  },
  "cells": [
    {
      "cell_type": "markdown",
      "metadata": {
        "id": "view-in-github",
        "colab_type": "text"
      },
      "source": [
        "<a href=\"https://colab.research.google.com/github/janeth015/IA_2024_IB/blob/main/Act_Metrolog%C3%ADa.ipynb\" target=\"_parent\"><img src=\"https://colab.research.google.com/assets/colab-badge.svg\" alt=\"Open In Colab\"/></a>"
      ]
    },
    {
      "cell_type": "markdown",
      "source": [
        "## **Estadística descriptiva con** **Statistics**"
      ],
      "metadata": {
        "id": "1V01C7FVEcA1"
      }
    },
    {
      "cell_type": "code",
      "execution_count": 16,
      "metadata": {
        "colab": {
          "base_uri": "https://localhost:8080/"
        },
        "id": "RGHDEARIOznW",
        "outputId": "af5d4a94-cfd4-4e77-d993-1080da64656c"
      },
      "outputs": [
        {
          "output_type": "stream",
          "name": "stdout",
          "text": [
            "   Measurement  Length\n",
            "0            1   1.118\n",
            "1            2   1.262\n",
            "2            3   1.118\n",
            "3            4   0.480\n",
            "4            5   1.014\n",
            "5            6   0.955\n",
            "6            7   0.978\n",
            "7            8   0.972\n",
            "8            9   1.190\n",
            "9           10   1.055\n",
            "10          11   0.886\n",
            "11          12   1.071\n",
            "12          13   0.861\n",
            "13          14   1.055\n",
            "14          15   0.834\n",
            "15          16   1.106\n",
            "16          17   0.912\n",
            "17          18   0.773\n",
            "18          19   0.958\n",
            "19          20   1.152\n",
            "20          21   1.324\n",
            "21          22   2.192\n",
            "22          23   0.779\n",
            "23          24   0.692\n",
            "24          25   1.036\n",
            "25          26   1.618\n",
            "26          27   1.187\n",
            "27          28   0.884\n",
            "28          29   0.858\n",
            "29          30   1.269\n",
            "30          31   0.811\n",
            "31          32   0.811\n",
            "32          33   0.636\n",
            "33          34   0.710\n",
            "34          35   0.675\n",
            "35          36   0.830\n",
            "Mean: 1.0017222222222222\n",
            "Median: 0.965\n",
            "Mode: 1.118\n",
            "Standard Deviation: 0.3018511090976677\n"
          ]
        }
      ],
      "source": [
        "import statistics\n",
        "\n",
        "datos = {\n",
        "    'Measurement': ['1', '2', '3', '4','5', '6', '7', '8', '9','10', '11', '12', '13', '14', '15', '16', '17', '18', '19', '20', '21', '22', '23', '24', '25', '26', '27', '28', '29', '30', '31', '32', '33', '34', '35', '36'],\n",
        "    'Length': [1.118, 1.262, 1.118, 0.480, 1.014, 0.955, 0.978, 0.972, 1.190, 1.055, 0.886, 1.071, 0.861, 1.055, 0.834, 1.106, 0.912, 0.773, 0.958, 1.152, 1.324, 2.192, 0.779, 0.692, 1.036, 1.618, 1.187, 0.884, 0.858, 1.269, 0.811, 0.811, 0.636, 0.710, 0.675, 0.830],\n",
        "}\n",
        "df = pd.DataFrame(datos)\n",
        "\n",
        "print(df)\n",
        "\n",
        "\n",
        "\n",
        "\n",
        "Length = list(datos['Length'])\n",
        "mean_Length = statistics.mean(Length)\n",
        "median_Length = statistics.median(Length)\n",
        "mode_Length = statistics.mode(Length)\n",
        "stdev_Length = statistics.stdev(Length)\n",
        "\n",
        "print(f\"Mean: {mean_Length}\")\n",
        "print(f\"Median: {median_Length}\")\n",
        "print(f\"Mode: {mode_Length}\")\n",
        "print(f\"Standard Deviation: {stdev_Length}\")"
      ]
    },
    {
      "cell_type": "markdown",
      "source": [
        "## **Estadística descriptiva con Pandas**"
      ],
      "metadata": {
        "id": "Air-_YG8ETlZ"
      }
    },
    {
      "cell_type": "code",
      "source": [
        "import pandas as pd\n",
        "datos = {\n",
        "    'Measurement': ['1', '2', '3', '4','5', '6', '7', '8', '9','10', '11', '12', '13', '14', '15', '16', '17', '18', '19', '20', '21', '22', '23', '24', '25', '26', '27', '28', '29', '30', '31', '32', '33', '34', '35', '36'],\n",
        "    'Length': [1.118, 1.262, 1.118, 0.480, 1.014, 0.955, 0.978, 0.972, 1.190, 1.055, 0.886, 1.071, 0.861, 1.055, 0.834, 1.106, 0.912, 0.773, 0.958, 1.152, 1.324, 2.192, 0.779, 0.692, 1.036, 1.618, 1.187, 0.884, 0.858, 1.269, 0.811, 0.811, 0.636, 0.710, 0.675, 0.830],\n",
        "}\n",
        "\n",
        "df = pd.DataFrame(datos)\n",
        "print(df)\n",
        "\n",
        "estadisticas_descriptivas = df.describe()\n",
        "print(estadisticas_descriptivas)\n",
        "\n"
      ],
      "metadata": {
        "colab": {
          "base_uri": "https://localhost:8080/"
        },
        "id": "NuCWui1rDuyB",
        "outputId": "6629cdc8-6e97-4cb7-c76f-a15f1da586fe"
      },
      "execution_count": 18,
      "outputs": [
        {
          "output_type": "stream",
          "name": "stdout",
          "text": [
            "   Measurement  Length\n",
            "0            1   1.118\n",
            "1            2   1.262\n",
            "2            3   1.118\n",
            "3            4   0.480\n",
            "4            5   1.014\n",
            "5            6   0.955\n",
            "6            7   0.978\n",
            "7            8   0.972\n",
            "8            9   1.190\n",
            "9           10   1.055\n",
            "10          11   0.886\n",
            "11          12   1.071\n",
            "12          13   0.861\n",
            "13          14   1.055\n",
            "14          15   0.834\n",
            "15          16   1.106\n",
            "16          17   0.912\n",
            "17          18   0.773\n",
            "18          19   0.958\n",
            "19          20   1.152\n",
            "20          21   1.324\n",
            "21          22   2.192\n",
            "22          23   0.779\n",
            "23          24   0.692\n",
            "24          25   1.036\n",
            "25          26   1.618\n",
            "26          27   1.187\n",
            "27          28   0.884\n",
            "28          29   0.858\n",
            "29          30   1.269\n",
            "30          31   0.811\n",
            "31          32   0.811\n",
            "32          33   0.636\n",
            "33          34   0.710\n",
            "34          35   0.675\n",
            "35          36   0.830\n",
            "          Length\n",
            "count  36.000000\n",
            "mean    1.001722\n",
            "std     0.301851\n",
            "min     0.480000\n",
            "25%     0.825250\n",
            "50%     0.965000\n",
            "75%     1.118000\n",
            "max     2.192000\n"
          ]
        }
      ]
    }
  ]
}